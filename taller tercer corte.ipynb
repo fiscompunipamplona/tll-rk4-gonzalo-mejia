{
 "cells": [
  {
   "cell_type": "markdown",
   "metadata": {},
   "source": [
    "En este trabajo consideraremos un movimiento parabolico sin fricción en el cual escribiremos un codigo que solucione las posiciones X y Y.\n",
    "\n",
    "el movimiento esta descrito por la siguiente ecuación:\n",
    "\n",
    "$$\\vec{F_{d}}=C_{d} V^{2}$$\n",
    "\n",
    "Realizando sumatoria de fuerzas tenemos:\n",
    "\n",
    "$$m\\vec{a}=-m\\vec{g}+F_{d}$$\n",
    "\n",
    "$$m\\frac{dv_{x}}{dt}=-\\vec{F_{d}}cos(\\theta )$$\n",
    "\n",
    "$$m\\frac{dv_{y}}{dt}=-\\vec{F_{d}}sen(\\theta )-m\\vec{g}$$\n",
    "\n",
    "Reemplazando el valor de $\\vec{F_{d}}$ tenemos:\n",
    "\n",
    "$$m\\frac{dv_{x}}{dt}=-C_{d} V^{2}cos(\\theta )$$\n",
    "\n",
    "$$m\\frac{dv_{y}}{dt}=-C_{d} V^{2}sen(\\theta )-m\\vec{g}$$\n",
    "\n",
    "Por tanto las ecuaciones que rigen el movimiento son:\n",
    "\n",
    "$$m\\frac{dv_{x}}{dt}=-C_{d} V V_{x}$$\n",
    "\n",
    "$$m\\frac{dv_{y}}{dt}=-C_{d} V V_{y}-m\\vec{g}$$\n",
    "\n",
    "las cuales estan acopladas por el factor;\n",
    "\n",
    "$$V=\\sqrt{V_{x}^{2}+V_{y}^{2}}$$\n",
    "\n",
    "\n",
    "Como tenemos dos ecuaciones de sgundo orden procedemos a vajarles el orden con el proposito de realizar el metodo numerico runge kutta orden 4 para solucionar ecuaciones diferenciales de primer orden.\n",
    "\n",
    "$$\\frac{dx}{dt}=V_{x}$$\n",
    "\n",
    "$$\\frac{dy}{dt}=V_{y}$$\n",
    "\n",
    "$$\\frac{dv_{x}}{dt}=-\\frac{C_{d}}{m}\\sqrt{V_{x}^{2}+V_{y}^{2}} V_{x}$$\n",
    "\n",
    "$$\\frac{dv_{y}}{dt}=-\\frac{C_{d}}{m}\\sqrt{V_{x}^{2}+V_{y}^{2}} V_{y}-\\vec{g}$$\n",
    "\n",
    "Con estas ecuaciones de primer orden procedimos ha hacer el código asumiendo los siguientes parametros:\n",
    "\n",
    "\\begin{equation}\n",
    "v_{0}=15 [m/s]\\\\\n",
    "\\theta_{0}=45^o\\\\\n",
    "x_{0}=y_{0}=0\n",
    "\\end{equation}"
   ]
  },
  {
   "cell_type": "code",
   "execution_count": 2,
   "metadata": {},
   "outputs": [],
   "source": [
    "from math import sin,exp,sqrt,cos,pi\n",
    "from numpy import arange,array,shape\n",
    "from pylab import plot,xlabel,ylabel,show,grid"
   ]
  },
  {
   "cell_type": "code",
   "execution_count": 1,
   "metadata": {},
   "outputs": [],
   "source": [
    "def f(t,ro,c,m,g):\n",
    "    vx=ro[2]\n",
    "    vy=ro[3]\n",
    "    dx=vx\n",
    "    dy=vy\n",
    "    dvx=-(c/m)*sqrt(((vx)**2) + ((vy)**2))*vx\n",
    "    dvy=-(c/m)*sqrt(((vx)**2) + ((vy)**2))*vy-g\n",
    "    return array([dx,dy,dvx,dvy]) "
   ]
  },
  {
   "cell_type": "code",
   "execution_count": 9,
   "metadata": {},
   "outputs": [],
   "source": [
    "#condiciones iniciales\n",
    "c=0\n",
    "m=1\n",
    "g=9.8\n",
    "xo=0\n",
    "yo=0\n",
    "vo=15\n",
    "theta=(pi/4)\n",
    "\n",
    "vox=vo*cos(theta)\n",
    "voy=vo*sin(theta)\n",
    "\n",
    "ro=array([xo,yo,vox,voy]) #vector condiciones iniciales\n",
    "\n",
    "to=0\n",
    "tf=2.5\n",
    "h=0.001\n",
    "tp=arange(to,tf,h)\n",
    "rp=[]\n",
    "for t in tp:\n",
    "    rp.append(list(ro))\n",
    "    k1 = (h*f(t,ro,c,m,g))\n",
    "    k2 = (h*f(t+0.5*h,ro+0.5*k1,c,m,g))\n",
    "    k3 = (h*f(t+0.5*h,ro+0.5*k2,c,m,g))\n",
    "    k4 = (h*f(t+h,ro+k3,c,m,g))\n",
    "    ro += (k1+2*k2+2*k3+k4)/6\n",
    "       \n"
   ]
  },
  {
   "cell_type": "code",
   "execution_count": 10,
   "metadata": {},
   "outputs": [
    {
     "data": {
      "image/png": "[encoded data removed]",
      "text/plain": [
       "<Figure size 432x288 with 1 Axes>"
      ]
     },
     "metadata": {
      "needs_background": "light"
     },
     "output_type": "display_data"
    }
   ],
   "source": [
    "rp = array(rp)\n",
    "shape(rp[:,0])\n",
    "plot(rp[:,0],rp[:,1])\n",
    "grid(\"on\")\n",
    "#plot(tp,rp[0][:])"
   ]
  },
  {
   "cell_type": "markdown",
   "metadata": {},
   "source": [
    "Luego procedimos a calcular el $X_{max}$, para compararlo con el teorico.\n",
    "\n",
    "Para calucular el valor teórico utilizamos las ecuaciones del movimiento parabolico, de las cuales despejamos el tiempo y lo reemplzamos y asi óbtuvimos dicho valor.\n",
    "\n",
    "$$X=V_{0} cos(\\theta)t$$\n",
    "\n",
    "$$Y=V_{0}  sen(\\theta) t + \\frac{1}{2}gt^{2}$$\n",
    "\n",
    "$$t=\\frac{2V_{0}sen(\\theta)}{g}$$\n",
    "\n",
    "$$X_{max}=V_{0} cos(\\theta)\\left ( \\frac{2V_{0}sen(\\theta)}{g} \\right )$$ \n",
    "\n",
    "$$X_{max}=\\left ( \\frac{2V_{0}^{2}}{g} \\right )cos(\\theta)sen(\\theta)$$ \n",
    "\n",
    "$$X_{max}=\\left ( \\frac{V_{0}^{2}}{g} \\right )sen(2\\theta)$$ \n",
    "\n",
    "Reemplazando datos tenemos:\n",
    "\n",
    "\\begin{equation}\n",
    " X_{max}=\\frac{15^{2}sen\\left ( 90^{^{o}}  \\right )}{2\\left ( 9.8 \\right )}=22.9591[m]\n",
    "\\end{equation}"
   ]
  },
  {
   "cell_type": "code",
   "execution_count": 11,
   "metadata": {},
   "outputs": [
    {
     "name": "stdout",
     "output_type": "stream",
     "text": [
      "[0.0, 22.952686117314475, 22.96329271903227]\n"
     ]
    },
    {
     "data": {
      "image/png": "[encoded data removed]",
      "text/plain": [
       "<Figure size 432x288 with 1 Axes>"
      ]
     },
     "metadata": {
      "needs_background": "light"
     },
     "output_type": "display_data"
    }
   ],
   "source": [
    "x=rp[:,0]\n",
    "y=rp[:,1]\n",
    "Xmax=[]\n",
    "ycer=[]\n",
    "for i in range(len(y)):\n",
    "    if y[i]<0.01 and y[i]>-0.01:\n",
    "        Xmax.append(x[i])\n",
    "        ycer.append(y[i])\n",
    "        \n",
    "\n",
    "print(Xmax)\n",
    "plot(Xmax,ycer,'o')\n",
    "plot(rp[:,0],rp[:,1])\n",
    "show()"
   ]
  },
  {
   "cell_type": "code",
   "execution_count": 12,
   "metadata": {},
   "outputs": [
    {
     "name": "stdout",
     "output_type": "stream",
     "text": [
      "22.959183673469386\n"
     ]
    }
   ],
   "source": [
    "Xmaxt=(vo**2)*sin(2*theta)/g\n",
    "print(Xmaxt)"
   ]
  },
  {
   "cell_type": "code",
   "execution_count": 13,
   "metadata": {},
   "outputs": [
    {
     "name": "stdout",
     "output_type": "stream",
     "text": [
      "0.017897176229453436\n"
     ]
    }
   ],
   "source": [
    "error=abs((Xmaxt-Xmax[2])/Xmaxt)*100\n",
    "print(error)\n"
   ]
  },
  {
   "cell_type": "code",
   "execution_count": null,
   "metadata": {},
   "outputs": [],
   "source": []
  }
 ],
 "metadata": {
  "kernelspec": {
   "display_name": "Python 3",
   "language": "python",
   "name": "python3"
  },
  "language_info": {
   "codemirror_mode": {
    "name": "ipython",
    "version": 3
   },
   "file_extension": ".py",
   "mimetype": "text/x-python",
   "name": "python",
   "nbconvert_exporter": "python",
   "pygments_lexer": "ipython3",
   "version": "3.5.2"
  }
 },
 "nbformat": 4,
 "nbformat_minor": 2
}
